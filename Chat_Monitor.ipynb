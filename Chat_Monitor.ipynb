{
  "nbformat": 4,
  "nbformat_minor": 0,
  "metadata": {
    "colab": {
      "provenance": [],
      "authorship_tag": "ABX9TyOGELMZ83Ta+sbI9K+5b3ex",
      "include_colab_link": true
    },
    "kernelspec": {
      "name": "python3",
      "display_name": "Python 3"
    },
    "language_info": {
      "name": "python"
    }
  },
  "cells": [
    {
      "cell_type": "markdown",
      "metadata": {
        "id": "view-in-github",
        "colab_type": "text"
      },
      "source": [
        "<a href=\"https://colab.research.google.com/github/Liset0811/Arduino/blob/main/Chat_Monitor.ipynb\" target=\"_parent\"><img src=\"https://colab.research.google.com/assets/colab-badge.svg\" alt=\"Open In Colab\"/></a>"
      ]
    },
    {
      "cell_type": "markdown",
      "source": [
        "# Se carga el JSON"
      ],
      "metadata": {
        "id": "I5NVKrRsxHh4"
      }
    },
    {
      "cell_type": "code",
      "source": [
        "!pip install streamlit"
      ],
      "metadata": {
        "colab": {
          "base_uri": "https://localhost:8080/"
        },
        "id": "7o6Pt3ahj8Zw",
        "outputId": "26c7ffae-1a7b-4925-b7b9-517a4c088e93"
      },
      "execution_count": 75,
      "outputs": [
        {
          "output_type": "stream",
          "name": "stdout",
          "text": [
            "Requirement already satisfied: streamlit in /usr/local/lib/python3.11/dist-packages (1.41.1)\n",
            "Requirement already satisfied: altair<6,>=4.0 in /usr/local/lib/python3.11/dist-packages (from streamlit) (5.5.0)\n",
            "Requirement already satisfied: blinker<2,>=1.0.0 in /usr/local/lib/python3.11/dist-packages (from streamlit) (1.9.0)\n",
            "Requirement already satisfied: cachetools<6,>=4.0 in /usr/local/lib/python3.11/dist-packages (from streamlit) (5.5.0)\n",
            "Requirement already satisfied: click<9,>=7.0 in /usr/local/lib/python3.11/dist-packages (from streamlit) (8.1.8)\n",
            "Requirement already satisfied: numpy<3,>=1.23 in /usr/local/lib/python3.11/dist-packages (from streamlit) (1.26.4)\n",
            "Requirement already satisfied: packaging<25,>=20 in /usr/local/lib/python3.11/dist-packages (from streamlit) (24.2)\n",
            "Requirement already satisfied: pandas<3,>=1.4.0 in /usr/local/lib/python3.11/dist-packages (from streamlit) (2.2.2)\n",
            "Requirement already satisfied: pillow<12,>=7.1.0 in /usr/local/lib/python3.11/dist-packages (from streamlit) (11.1.0)\n",
            "Requirement already satisfied: protobuf<6,>=3.20 in /usr/local/lib/python3.11/dist-packages (from streamlit) (4.25.5)\n",
            "Requirement already satisfied: pyarrow>=7.0 in /usr/local/lib/python3.11/dist-packages (from streamlit) (17.0.0)\n",
            "Requirement already satisfied: requests<3,>=2.27 in /usr/local/lib/python3.11/dist-packages (from streamlit) (2.32.3)\n",
            "Requirement already satisfied: rich<14,>=10.14.0 in /usr/local/lib/python3.11/dist-packages (from streamlit) (13.9.4)\n",
            "Requirement already satisfied: tenacity<10,>=8.1.0 in /usr/local/lib/python3.11/dist-packages (from streamlit) (9.0.0)\n",
            "Requirement already satisfied: toml<2,>=0.10.1 in /usr/local/lib/python3.11/dist-packages (from streamlit) (0.10.2)\n",
            "Requirement already satisfied: typing-extensions<5,>=4.3.0 in /usr/local/lib/python3.11/dist-packages (from streamlit) (4.12.2)\n",
            "Requirement already satisfied: watchdog<7,>=2.1.5 in /usr/local/lib/python3.11/dist-packages (from streamlit) (6.0.0)\n",
            "Requirement already satisfied: gitpython!=3.1.19,<4,>=3.0.7 in /usr/local/lib/python3.11/dist-packages (from streamlit) (3.1.44)\n",
            "Requirement already satisfied: pydeck<1,>=0.8.0b4 in /usr/local/lib/python3.11/dist-packages (from streamlit) (0.9.1)\n",
            "Requirement already satisfied: tornado<7,>=6.0.3 in /usr/local/lib/python3.11/dist-packages (from streamlit) (6.3.3)\n",
            "Requirement already satisfied: jinja2 in /usr/local/lib/python3.11/dist-packages (from altair<6,>=4.0->streamlit) (3.1.5)\n",
            "Requirement already satisfied: jsonschema>=3.0 in /usr/local/lib/python3.11/dist-packages (from altair<6,>=4.0->streamlit) (4.23.0)\n",
            "Requirement already satisfied: narwhals>=1.14.2 in /usr/local/lib/python3.11/dist-packages (from altair<6,>=4.0->streamlit) (1.21.1)\n",
            "Requirement already satisfied: gitdb<5,>=4.0.1 in /usr/local/lib/python3.11/dist-packages (from gitpython!=3.1.19,<4,>=3.0.7->streamlit) (4.0.12)\n",
            "Requirement already satisfied: python-dateutil>=2.8.2 in /usr/local/lib/python3.11/dist-packages (from pandas<3,>=1.4.0->streamlit) (2.8.2)\n",
            "Requirement already satisfied: pytz>=2020.1 in /usr/local/lib/python3.11/dist-packages (from pandas<3,>=1.4.0->streamlit) (2024.2)\n",
            "Requirement already satisfied: tzdata>=2022.7 in /usr/local/lib/python3.11/dist-packages (from pandas<3,>=1.4.0->streamlit) (2024.2)\n",
            "Requirement already satisfied: charset-normalizer<4,>=2 in /usr/local/lib/python3.11/dist-packages (from requests<3,>=2.27->streamlit) (3.4.1)\n",
            "Requirement already satisfied: idna<4,>=2.5 in /usr/local/lib/python3.11/dist-packages (from requests<3,>=2.27->streamlit) (3.10)\n",
            "Requirement already satisfied: urllib3<3,>=1.21.1 in /usr/local/lib/python3.11/dist-packages (from requests<3,>=2.27->streamlit) (2.3.0)\n",
            "Requirement already satisfied: certifi>=2017.4.17 in /usr/local/lib/python3.11/dist-packages (from requests<3,>=2.27->streamlit) (2024.12.14)\n",
            "Requirement already satisfied: markdown-it-py>=2.2.0 in /usr/local/lib/python3.11/dist-packages (from rich<14,>=10.14.0->streamlit) (3.0.0)\n",
            "Requirement already satisfied: pygments<3.0.0,>=2.13.0 in /usr/local/lib/python3.11/dist-packages (from rich<14,>=10.14.0->streamlit) (2.18.0)\n",
            "Requirement already satisfied: smmap<6,>=3.0.1 in /usr/local/lib/python3.11/dist-packages (from gitdb<5,>=4.0.1->gitpython!=3.1.19,<4,>=3.0.7->streamlit) (5.0.2)\n",
            "Requirement already satisfied: MarkupSafe>=2.0 in /usr/local/lib/python3.11/dist-packages (from jinja2->altair<6,>=4.0->streamlit) (3.0.2)\n",
            "Requirement already satisfied: attrs>=22.2.0 in /usr/local/lib/python3.11/dist-packages (from jsonschema>=3.0->altair<6,>=4.0->streamlit) (24.3.0)\n",
            "Requirement already satisfied: jsonschema-specifications>=2023.03.6 in /usr/local/lib/python3.11/dist-packages (from jsonschema>=3.0->altair<6,>=4.0->streamlit) (2024.10.1)\n",
            "Requirement already satisfied: referencing>=0.28.4 in /usr/local/lib/python3.11/dist-packages (from jsonschema>=3.0->altair<6,>=4.0->streamlit) (0.35.1)\n",
            "Requirement already satisfied: rpds-py>=0.7.1 in /usr/local/lib/python3.11/dist-packages (from jsonschema>=3.0->altair<6,>=4.0->streamlit) (0.22.3)\n",
            "Requirement already satisfied: mdurl~=0.1 in /usr/local/lib/python3.11/dist-packages (from markdown-it-py>=2.2.0->rich<14,>=10.14.0->streamlit) (0.1.2)\n",
            "Requirement already satisfied: six>=1.5 in /usr/local/lib/python3.11/dist-packages (from python-dateutil>=2.8.2->pandas<3,>=1.4.0->streamlit) (1.17.0)\n"
          ]
        }
      ]
    },
    {
      "cell_type": "code",
      "source": [
        "import json\n",
        "import pandas as pd\n",
        "import streamlit as st\n",
        "from google.colab import drive\n",
        "\n",
        "drive.mount('/content/drive')"
      ],
      "metadata": {
        "id": "F90BjeJgnpFh",
        "colab": {
          "base_uri": "https://localhost:8080/"
        },
        "outputId": "01789bc5-7768-45fa-c50e-73f55513e7d3"
      },
      "execution_count": 76,
      "outputs": [
        {
          "output_type": "stream",
          "name": "stdout",
          "text": [
            "Drive already mounted at /content/drive; to attempt to forcibly remount, call drive.mount(\"/content/drive\", force_remount=True).\n"
          ]
        }
      ]
    },
    {
      "cell_type": "code",
      "source": [
        "!git clone https://github.com/Liset0811/Arduino.git"
      ],
      "metadata": {
        "colab": {
          "base_uri": "https://localhost:8080/"
        },
        "id": "cPZxzOtWwZdu",
        "outputId": "176ba78a-9d2b-4da4-e019-6a8b71fd9449"
      },
      "execution_count": 83,
      "outputs": [
        {
          "output_type": "stream",
          "name": "stdout",
          "text": [
            "fatal: destination path 'Arduino' already exists and is not an empty directory.\n"
          ]
        }
      ]
    },
    {
      "cell_type": "code",
      "source": [
        "ruta_json = '/content/drive/MyDrive/chatbot_historial.json'"
      ],
      "metadata": {
        "id": "kLcItLC7uRES"
      },
      "execution_count": 84,
      "outputs": []
    },
    {
      "cell_type": "code",
      "source": [
        "with open(ruta_json, 'r') as f:\n",
        "    datos = json.load(f)\n",
        "\n",
        "print(json.dumps(datos, indent=2))"
      ],
      "metadata": {
        "colab": {
          "base_uri": "https://localhost:8080/"
        },
        "id": "d1sZPsglneCj",
        "outputId": "a1deaa48-1b0b-45f6-8b60-fc2ad5775a7f"
      },
      "execution_count": 85,
      "outputs": [
        {
          "output_type": "stream",
          "name": "stdout",
          "text": [
            "{\n",
            "  \"usuarios\": [\n",
            "    {\n",
            "      \"nombre\": \"Juan P\\u00e9rez\",\n",
            "      \"interacciones\": [\n",
            "        {\n",
            "          \"fecha\": \"2025-01-06\",\n",
            "          \"hora\": \"10:15:00\",\n",
            "          \"tipoContenido\": \"texto\",\n",
            "          \"pregunta\": \"\\u00bfC\\u00f3mo configuro un servidor web?\"\n",
            "        },\n",
            "        {\n",
            "          \"fecha\": \"2025-01-06\",\n",
            "          \"hora\": \"10:20:00\",\n",
            "          \"tipoContenido\": \"imagen\",\n",
            "          \"pregunta\": \"\\u00bfQu\\u00e9 significa este diagrama de red?\"\n",
            "        }\n",
            "      ]\n",
            "    },\n",
            "    {\n",
            "      \"nombre\": \"Mar\\u00eda L\\u00f3pez\",\n",
            "      \"interacciones\": [\n",
            "        {\n",
            "          \"fecha\": \"2025-01-05\",\n",
            "          \"hora\": \"14:35:00\",\n",
            "          \"tipoContenido\": \"audio\",\n",
            "          \"pregunta\": \"\\u00bfPuedes explicar c\\u00f3mo funcionan las APIs?\"\n",
            "        }\n",
            "      ]\n",
            "    }\n",
            "  ]\n",
            "}\n"
          ]
        }
      ]
    },
    {
      "cell_type": "code",
      "source": [
        "for usuario in datos['usuarios']:\n",
        "    print(f\"Usuario: {usuario['nombre']}\")\n",
        "    for interaccion in usuario['interacciones']:\n",
        "        print(f\"  Fecha: {interaccion['fecha']}, Hora: {interaccion['hora']}\")\n",
        "        print(f\"  Tipo: {interaccion['tipoContenido']}, Pregunta: {interaccion['pregunta']}\")"
      ],
      "metadata": {
        "colab": {
          "base_uri": "https://localhost:8080/"
        },
        "id": "DqNsX7GGoPNP",
        "outputId": "0e2ca4cd-9bb9-457b-efdb-432438966f2a"
      },
      "execution_count": 86,
      "outputs": [
        {
          "output_type": "stream",
          "name": "stdout",
          "text": [
            "Usuario: Juan Pérez\n",
            "  Fecha: 2025-01-06, Hora: 10:15:00\n",
            "  Tipo: texto, Pregunta: ¿Cómo configuro un servidor web?\n",
            "  Fecha: 2025-01-06, Hora: 10:20:00\n",
            "  Tipo: imagen, Pregunta: ¿Qué significa este diagrama de red?\n",
            "Usuario: María López\n",
            "  Fecha: 2025-01-05, Hora: 14:35:00\n",
            "  Tipo: audio, Pregunta: ¿Puedes explicar cómo funcionan las APIs?\n"
          ]
        }
      ]
    },
    {
      "cell_type": "code",
      "source": [
        "filas = []\n",
        "for usuario in datos['usuarios']:\n",
        "    for interaccion in usuario['interacciones']:\n",
        "        filas.append({\n",
        "            \"Usuario\": usuario['nombre'],\n",
        "            \"Fecha\": interaccion['fecha'],\n",
        "            \"Hora\": interaccion['hora'],\n",
        "            \"Tipo\": interaccion['tipoContenido'],\n",
        "            \"Pregunta\": interaccion['pregunta']\n",
        "        })\n",
        "\n",
        "df = pd.DataFrame(filas)\n",
        "\n",
        "# Mostrar tabla\n",
        "print(df)"
      ],
      "metadata": {
        "colab": {
          "base_uri": "https://localhost:8080/"
        },
        "id": "6rEsB7izHioP",
        "outputId": "2af93646-c4bd-491f-8bb6-ae353838dd01"
      },
      "execution_count": 87,
      "outputs": [
        {
          "output_type": "stream",
          "name": "stdout",
          "text": [
            "       Usuario       Fecha      Hora    Tipo  \\\n",
            "0   Juan Pérez  2025-01-06  10:15:00   texto   \n",
            "1   Juan Pérez  2025-01-06  10:20:00  imagen   \n",
            "2  María López  2025-01-05  14:35:00   audio   \n",
            "\n",
            "                                    Pregunta  \n",
            "0           ¿Cómo configuro un servidor web?  \n",
            "1       ¿Qué significa este diagrama de red?  \n",
            "2  ¿Puedes explicar cómo funcionan las APIs?  \n"
          ]
        }
      ]
    },
    {
      "cell_type": "code",
      "source": [
        "st.title(\"Chatbot Monitor\")\n",
        "\n",
        "usuarios = [usuario['nombre'] for usuario in datos['usuarios']]\n",
        "usuario_seleccionado = st.selectbox(\"Seleccionar usuario\", usuarios)\n",
        "\n",
        "if usuario_seleccionado:\n",
        "    usuario = next(u for u in datos['usuarios'] if u['nombre'] == usuario_seleccionado)\n",
        "    st.subheader(f\"Interacciones de {usuario_seleccionado}\")\n",
        "    for interaccion in usuario['interacciones']:\n",
        "        st.write(f\"Fecha: {interaccion['fecha']} - Hora: {interaccion['hora']}\")\n",
        "        st.write(f\"Tipo: {interaccion['tipoContenido']}\")\n",
        "        st.write(f\"Pregunta: {interaccion['pregunta']}\")\n",
        "        st.markdown(\"---\")"
      ],
      "metadata": {
        "colab": {
          "base_uri": "https://localhost:8080/"
        },
        "id": "gTHtLUoKIwCK",
        "outputId": "2f29cde6-bca2-4c37-c522-9cacdc5f2f74"
      },
      "execution_count": 88,
      "outputs": [
        {
          "output_type": "stream",
          "name": "stderr",
          "text": [
            "2025-01-23 06:22:20.438 Thread 'MainThread': missing ScriptRunContext! This warning can be ignored when running in bare mode.\n",
            "2025-01-23 06:22:20.441 Thread 'MainThread': missing ScriptRunContext! This warning can be ignored when running in bare mode.\n",
            "2025-01-23 06:22:20.442 Thread 'MainThread': missing ScriptRunContext! This warning can be ignored when running in bare mode.\n",
            "2025-01-23 06:22:20.443 Thread 'MainThread': missing ScriptRunContext! This warning can be ignored when running in bare mode.\n",
            "2025-01-23 06:22:20.445 Thread 'MainThread': missing ScriptRunContext! This warning can be ignored when running in bare mode.\n",
            "2025-01-23 06:22:20.446 Thread 'MainThread': missing ScriptRunContext! This warning can be ignored when running in bare mode.\n",
            "2025-01-23 06:22:20.447 Thread 'MainThread': missing ScriptRunContext! This warning can be ignored when running in bare mode.\n",
            "2025-01-23 06:22:20.449 Thread 'MainThread': missing ScriptRunContext! This warning can be ignored when running in bare mode.\n",
            "2025-01-23 06:22:20.450 Thread 'MainThread': missing ScriptRunContext! This warning can be ignored when running in bare mode.\n",
            "2025-01-23 06:22:20.452 Thread 'MainThread': missing ScriptRunContext! This warning can be ignored when running in bare mode.\n",
            "2025-01-23 06:22:20.453 Thread 'MainThread': missing ScriptRunContext! This warning can be ignored when running in bare mode.\n",
            "2025-01-23 06:22:20.454 Thread 'MainThread': missing ScriptRunContext! This warning can be ignored when running in bare mode.\n",
            "2025-01-23 06:22:20.456 Thread 'MainThread': missing ScriptRunContext! This warning can be ignored when running in bare mode.\n",
            "2025-01-23 06:22:20.457 Thread 'MainThread': missing ScriptRunContext! This warning can be ignored when running in bare mode.\n",
            "2025-01-23 06:22:20.458 Thread 'MainThread': missing ScriptRunContext! This warning can be ignored when running in bare mode.\n",
            "2025-01-23 06:22:20.460 Thread 'MainThread': missing ScriptRunContext! This warning can be ignored when running in bare mode.\n",
            "2025-01-23 06:22:20.461 Thread 'MainThread': missing ScriptRunContext! This warning can be ignored when running in bare mode.\n",
            "2025-01-23 06:22:20.462 Thread 'MainThread': missing ScriptRunContext! This warning can be ignored when running in bare mode.\n",
            "2025-01-23 06:22:20.463 Thread 'MainThread': missing ScriptRunContext! This warning can be ignored when running in bare mode.\n",
            "2025-01-23 06:22:20.465 Thread 'MainThread': missing ScriptRunContext! This warning can be ignored when running in bare mode.\n",
            "2025-01-23 06:22:20.466 Thread 'MainThread': missing ScriptRunContext! This warning can be ignored when running in bare mode.\n",
            "2025-01-23 06:22:20.467 Thread 'MainThread': missing ScriptRunContext! This warning can be ignored when running in bare mode.\n",
            "2025-01-23 06:22:20.469 Thread 'MainThread': missing ScriptRunContext! This warning can be ignored when running in bare mode.\n",
            "2025-01-23 06:22:20.470 Thread 'MainThread': missing ScriptRunContext! This warning can be ignored when running in bare mode.\n",
            "2025-01-23 06:22:20.472 Thread 'MainThread': missing ScriptRunContext! This warning can be ignored when running in bare mode.\n",
            "2025-01-23 06:22:20.473 Thread 'MainThread': missing ScriptRunContext! This warning can be ignored when running in bare mode.\n",
            "2025-01-23 06:22:20.474 Thread 'MainThread': missing ScriptRunContext! This warning can be ignored when running in bare mode.\n",
            "2025-01-23 06:22:20.479 Thread 'MainThread': missing ScriptRunContext! This warning can be ignored when running in bare mode.\n",
            "2025-01-23 06:22:20.480 Thread 'MainThread': missing ScriptRunContext! This warning can be ignored when running in bare mode.\n",
            "2025-01-23 06:22:20.482 Thread 'MainThread': missing ScriptRunContext! This warning can be ignored when running in bare mode.\n",
            "2025-01-23 06:22:20.483 Thread 'MainThread': missing ScriptRunContext! This warning can be ignored when running in bare mode.\n",
            "2025-01-23 06:22:20.484 Thread 'MainThread': missing ScriptRunContext! This warning can be ignored when running in bare mode.\n",
            "2025-01-23 06:22:20.487 Thread 'MainThread': missing ScriptRunContext! This warning can be ignored when running in bare mode.\n",
            "2025-01-23 06:22:20.488 Thread 'MainThread': missing ScriptRunContext! This warning can be ignored when running in bare mode.\n",
            "2025-01-23 06:22:20.489 Thread 'MainThread': missing ScriptRunContext! This warning can be ignored when running in bare mode.\n",
            "2025-01-23 06:22:20.491 Thread 'MainThread': missing ScriptRunContext! This warning can be ignored when running in bare mode.\n",
            "2025-01-23 06:22:20.492 Thread 'MainThread': missing ScriptRunContext! This warning can be ignored when running in bare mode.\n",
            "2025-01-23 06:22:20.493 Thread 'MainThread': missing ScriptRunContext! This warning can be ignored when running in bare mode.\n"
          ]
        }
      ]
    },
    {
      "cell_type": "code",
      "source": [
        "!git pull origin main  # Traer actualizaciones\n",
        "!git add .             # Agregar archivos nuevos o modificados\n",
        "!git commit -m \"Descripción del cambio\"\n",
        "!git push origin main  # Subir cambios\n"
      ],
      "metadata": {
        "colab": {
          "base_uri": "https://localhost:8080/"
        },
        "id": "HcPdgG1ro9X6",
        "outputId": "7523b507-9d24-4fdf-f995-580cbce494e1"
      },
      "execution_count": 90,
      "outputs": [
        {
          "output_type": "stream",
          "name": "stdout",
          "text": [
            "From https://github.com/Liset0811/Arduino\n",
            " * branch            main       -> FETCH_HEAD\n",
            "\u001b[33mhint: You have divergent branches and need to specify how to reconcile them.\u001b[m\n",
            "\u001b[33mhint: You can do so by running one of the following commands sometime before\u001b[m\n",
            "\u001b[33mhint: your next pull:\u001b[m\n",
            "\u001b[33mhint: \u001b[m\n",
            "\u001b[33mhint:   git config pull.rebase false  # merge (the default strategy)\u001b[m\n",
            "\u001b[33mhint:   git config pull.rebase true   # rebase\u001b[m\n",
            "\u001b[33mhint:   git config pull.ff only       # fast-forward only\u001b[m\n",
            "\u001b[33mhint: \u001b[m\n",
            "\u001b[33mhint: You can replace \"git config\" with \"git config --global\" to set a default\u001b[m\n",
            "\u001b[33mhint: preference for all repositories. You can also pass --rebase, --no-rebase,\u001b[m\n",
            "\u001b[33mhint: or --ff-only on the command line to override the configured default per\u001b[m\n",
            "\u001b[33mhint: invocation.\u001b[m\n",
            "fatal: Need to specify how to reconcile divergent branches.\n",
            "On branch main\n",
            "Your branch and 'origin/main' have diverged,\n",
            "and have 2 and 1 different commits each, respectively.\n",
            "  (use \"git pull\" to merge the remote branch into yours)\n",
            "\n",
            "nothing to commit, working tree clean\n",
            "fatal: could not read Username for 'https://github.com': No such device or address\n"
          ]
        }
      ]
    },
    {
      "cell_type": "code",
      "source": [],
      "metadata": {
        "colab": {
          "base_uri": "https://localhost:8080/"
        },
        "id": "Xn1TMEFgo-sG",
        "outputId": "646f54db-8dea-4f2c-c4aa-237b2f1aafa3"
      },
      "execution_count": 62,
      "outputs": [
        {
          "output_type": "stream",
          "name": "stdout",
          "text": [
            "\u001b[1G\u001b[0K⠙\u001b[1G\u001b[0K⠹\u001b[1G\u001b[0K⠸\u001b[1G\u001b[0K⠼\u001b[1G\u001b[0K⠴\u001b[1G\u001b[0Kyour url is: https://lucky-tires-start.loca.lt\n",
            "123456\n",
            "^C\n"
          ]
        }
      ]
    },
    {
      "cell_type": "code",
      "source": [],
      "metadata": {
        "id": "Bx_zy0TvpAJ2"
      },
      "execution_count": null,
      "outputs": []
    }
  ]
}